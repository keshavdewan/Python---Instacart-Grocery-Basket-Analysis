{
 "cells": [
  {
   "cell_type": "markdown",
   "id": "e836f09e",
   "metadata": {},
   "source": [
    "# 01. Importing Libraries"
   ]
  },
  {
   "cell_type": "code",
   "execution_count": 8,
   "id": "cb584f7a",
   "metadata": {},
   "outputs": [],
   "source": [
    "#Import Libraries\n",
    "import pandas as pd\n",
    "import numpy as np\n",
    "import os"
   ]
  },
  {
   "cell_type": "markdown",
   "id": "a865bccf",
   "metadata": {},
   "source": [
    "# 02. Data Types"
   ]
  },
  {
   "cell_type": "code",
   "execution_count": 44,
   "id": "4f02a97e",
   "metadata": {},
   "outputs": [],
   "source": [
    "x = 50"
   ]
  },
  {
   "cell_type": "code",
   "execution_count": 45,
   "id": "0b9db296",
   "metadata": {},
   "outputs": [],
   "source": [
    "y=50"
   ]
  },
  {
   "cell_type": "code",
   "execution_count": 46,
   "id": "3eb0a615",
   "metadata": {},
   "outputs": [
    {
     "data": {
      "text/plain": [
       "100"
      ]
     },
     "execution_count": 46,
     "metadata": {},
     "output_type": "execute_result"
    }
   ],
   "source": [
    "x+y"
   ]
  },
  {
   "cell_type": "code",
   "execution_count": 47,
   "id": "001f8548",
   "metadata": {},
   "outputs": [],
   "source": [
    "x=150\n",
    "y=50"
   ]
  },
  {
   "cell_type": "code",
   "execution_count": 48,
   "id": "da106a76",
   "metadata": {},
   "outputs": [
    {
     "data": {
      "text/plain": [
       "100"
      ]
     },
     "execution_count": 48,
     "metadata": {},
     "output_type": "execute_result"
    }
   ],
   "source": [
    "x-y"
   ]
  },
  {
   "cell_type": "code",
   "execution_count": 49,
   "id": "3b91b2fe",
   "metadata": {},
   "outputs": [],
   "source": [
    "x=25"
   ]
  },
  {
   "cell_type": "code",
   "execution_count": 50,
   "id": "5e478281",
   "metadata": {},
   "outputs": [],
   "source": [
    "y=75"
   ]
  },
  {
   "cell_type": "code",
   "execution_count": 51,
   "id": "01dd4ca3",
   "metadata": {},
   "outputs": [
    {
     "data": {
      "text/plain": [
       "100"
      ]
     },
     "execution_count": 51,
     "metadata": {},
     "output_type": "execute_result"
    }
   ],
   "source": [
    "x+y"
   ]
  },
  {
   "cell_type": "code",
   "execution_count": 52,
   "id": "2eb4b53c",
   "metadata": {},
   "outputs": [],
   "source": [
    "x=2.2"
   ]
  },
  {
   "cell_type": "code",
   "execution_count": 53,
   "id": "dff2a3da",
   "metadata": {},
   "outputs": [],
   "source": [
    "y=1.1"
   ]
  },
  {
   "cell_type": "code",
   "execution_count": 54,
   "id": "607c1843",
   "metadata": {},
   "outputs": [
    {
     "data": {
      "text/plain": [
       "2.0"
      ]
     },
     "execution_count": 54,
     "metadata": {},
     "output_type": "execute_result"
    }
   ],
   "source": [
    "x/y"
   ]
  },
  {
   "cell_type": "code",
   "execution_count": 55,
   "id": "e91482b8",
   "metadata": {},
   "outputs": [
    {
     "data": {
      "text/plain": [
       "3.0"
      ]
     },
     "execution_count": 55,
     "metadata": {},
     "output_type": "execute_result"
    }
   ],
   "source": [
    "x=4.5\n",
    "y=1.5\n",
    "x/y"
   ]
  },
  {
   "cell_type": "code",
   "execution_count": 56,
   "id": "b0f4cf35",
   "metadata": {},
   "outputs": [
    {
     "data": {
      "text/plain": [
       "'Hello, new string words'"
      ]
     },
     "execution_count": 56,
     "metadata": {},
     "output_type": "execute_result"
    }
   ],
   "source": [
    "'Hello, new string words'"
   ]
  },
  {
   "cell_type": "code",
   "execution_count": 61,
   "id": "b73bd2db",
   "metadata": {},
   "outputs": [
    {
     "data": {
      "text/plain": [
       "'Hello,How are you'"
      ]
     },
     "execution_count": 61,
     "metadata": {},
     "output_type": "execute_result"
    }
   ],
   "source": [
    "'Hello,'+'How are you'"
   ]
  },
  {
   "cell_type": "code",
   "execution_count": 79,
   "id": "0380062b",
   "metadata": {},
   "outputs": [],
   "source": [
    "f= 'what is python?'"
   ]
  },
  {
   "cell_type": "code",
   "execution_count": 82,
   "id": "4cf421e4",
   "metadata": {
    "scrolled": true
   },
   "outputs": [
    {
     "name": "stdout",
     "output_type": "stream",
     "text": [
      "what is python?\n"
     ]
    }
   ],
   "source": [
    "print(f)"
   ]
  },
  {
   "cell_type": "code",
   "execution_count": 84,
   "id": "f7ca4297",
   "metadata": {},
   "outputs": [
    {
     "data": {
      "text/plain": [
       "'What are they doing here'"
      ]
     },
     "execution_count": 84,
     "metadata": {},
     "output_type": "execute_result"
    }
   ],
   "source": [
    "'What are' + ' they doing here'"
   ]
  },
  {
   "cell_type": "code",
   "execution_count": 85,
   "id": "8489c26b",
   "metadata": {},
   "outputs": [],
   "source": [
    "C = 'Careerfoundry'"
   ]
  },
  {
   "cell_type": "code",
   "execution_count": 87,
   "id": "ea034343",
   "metadata": {},
   "outputs": [
    {
     "name": "stdout",
     "output_type": "stream",
     "text": [
      "CareerfoundryCareerfoundryCareerfoundryCareerfoundryCareerfoundryCareerfoundryCareerfoundryCareerfoundryCareerfoundryCareerfoundryCareerfoundryCareerfoundryCareerfoundryCareerfoundryCareerfoundryCareerfoundryCareerfoundryCareerfoundryCareerfoundryCareerfoundryCareerfoundryCareerfoundryCareerfoundryCareerfoundryCareerfoundryCareerfoundryCareerfoundryCareerfoundryCareerfoundryCareerfoundryCareerfoundryCareerfoundryCareerfoundryCareerfoundryCareerfoundryCareerfoundryCareerfoundryCareerfoundryCareerfoundryCareerfoundryCareerfoundryCareerfoundryCareerfoundryCareerfoundryCareerfoundryCareerfoundryCareerfoundryCareerfoundryCareerfoundryCareerfoundryCareerfoundryCareerfoundryCareerfoundryCareerfoundryCareerfoundryCareerfoundryCareerfoundryCareerfoundryCareerfoundryCareerfoundryCareerfoundryCareerfoundryCareerfoundryCareerfoundryCareerfoundryCareerfoundryCareerfoundryCareerfoundryCareerfoundryCareerfoundryCareerfoundryCareerfoundryCareerfoundryCareerfoundryCareerfoundryCareerfoundryCareerfoundryCareerfoundryCareerfoundryCareerfoundryCareerfoundryCareerfoundryCareerfoundryCareerfoundryCareerfoundryCareerfoundryCareerfoundryCareerfoundryCareerfoundryCareerfoundryCareerfoundryCareerfoundryCareerfoundryCareerfoundryCareerfoundryCareerfoundryCareerfoundryCareerfoundryCareerfoundryCareerfoundry\n"
     ]
    }
   ],
   "source": [
    "print (C*100)"
   ]
  }
 ],
 "metadata": {
  "kernelspec": {
   "display_name": "Python 3 (ipykernel)",
   "language": "python",
   "name": "python3"
  },
  "language_info": {
   "codemirror_mode": {
    "name": "ipython",
    "version": 3
   },
   "file_extension": ".py",
   "mimetype": "text/x-python",
   "name": "python",
   "nbconvert_exporter": "python",
   "pygments_lexer": "ipython3",
   "version": "3.9.7"
  }
 },
 "nbformat": 4,
 "nbformat_minor": 5
}
