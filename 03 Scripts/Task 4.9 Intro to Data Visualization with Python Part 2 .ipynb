{
 "cells": [
  {
   "cell_type": "markdown",
   "id": "58b2127a",
   "metadata": {},
   "source": [
    "# Importing Visualization Libraries"
   ]
  },
  {
   "cell_type": "code",
   "execution_count": 1,
   "id": "df46f07a",
   "metadata": {},
   "outputs": [
    {
     "name": "stdout",
     "output_type": "stream",
     "text": [
      "Collecting package metadata (current_repodata.json): ...working... done\n",
      "Solving environment: ...working... done\n",
      "\n",
      "# All requested packages already installed.\n",
      "\n",
      "\n",
      "Note: you may need to restart the kernel to use updated packages.\n"
     ]
    }
   ],
   "source": [
    "conda install seaborn matplotlib scipy"
   ]
  },
  {
   "cell_type": "code",
   "execution_count": 2,
   "id": "91ed0f12",
   "metadata": {},
   "outputs": [],
   "source": [
    "# Import libraries\n",
    "\n",
    "import pandas as pd\n",
    "import numpy as np\n",
    "import os\n",
    "import matplotlib.pyplot as plt\n",
    "import seaborn as sns\n",
    "import scipy"
   ]
  },
  {
   "cell_type": "code",
   "execution_count": 3,
   "id": "1d5dec42",
   "metadata": {},
   "outputs": [],
   "source": [
    "orders_products_merged_path = r'C:\\Users\\iNDIA\\Desktop\\Career Foundry\\4 Python Fundamentals for Data Analysts\\Instacart Basket Analysis Mar 22\\02 Data\\Prepared Data\\orders_products_merged.pkl'"
   ]
  },
  {
   "cell_type": "code",
   "execution_count": 4,
   "id": "dda5589a",
   "metadata": {},
   "outputs": [],
   "source": [
    "ords_prods_merge = pd.read_pickle(orders_products_merged_path)"
   ]
  },
  {
   "cell_type": "markdown",
   "id": "9fd25be0",
   "metadata": {},
   "source": [
    "#### Bar Chart"
   ]
  },
  {
   "cell_type": "code",
   "execution_count": 5,
   "id": "6d587914",
   "metadata": {},
   "outputs": [
    {
     "data": {
      "text/plain": [
       "<AxesSubplot:>"
      ]
     },
     "execution_count": 5,
     "metadata": {},
     "output_type": "execute_result"
    },
    {
     "data": {
      "image/png": "[encoded data removed]",
      "text/plain": [
       "<Figure size 432x288 with 1 Axes>"
      ]
     },
     "metadata": {
      "needs_background": "light"
     },
     "output_type": "display_data"
    }
   ],
   "source": [
    "# Create a bar chart\n",
    "\n",
    "ords_prods_merge['order_day_of_week'].value_counts().plot.bar()"
   ]
  },
  {
   "cell_type": "code",
   "execution_count": 6,
   "id": "3f1353d2",
   "metadata": {},
   "outputs": [
    {
     "data": {
      "text/plain": [
       "<AxesSubplot:>"
      ]
     },
     "execution_count": 6,
     "metadata": {},
     "output_type": "execute_result"
    },
    {
     "data": {
      "image/png": "[encoded data removed]",
      "text/plain": [
       "<Figure size 432x288 with 1 Axes>"
      ]
     },
     "metadata": {
      "needs_background": "light"
     },
     "output_type": "display_data"
    }
   ],
   "source": [
    "ords_prods_merge['order_day_of_week'].value_counts().sort_index().plot.bar()"
   ]
  },
  {
   "cell_type": "code",
   "execution_count": 7,
   "id": "8d434647",
   "metadata": {},
   "outputs": [
    {
     "data": {
      "text/plain": [
       "0    6204399\n",
       "1    5660456\n",
       "6    4496635\n",
       "2    4213986\n",
       "5    4205906\n",
       "3    3840701\n",
       "4    3783953\n",
       "Name: order_day_of_week, dtype: int64"
      ]
     },
     "execution_count": 7,
     "metadata": {},
     "output_type": "execute_result"
    }
   ],
   "source": [
    "ords_prods_merge['order_day_of_week'].value_counts(dropna = False)"
   ]
  },
  {
   "cell_type": "code",
   "execution_count": 8,
   "id": "ef0f13c2",
   "metadata": {},
   "outputs": [
    {
     "data": {
      "text/plain": [
       "0    6204399\n",
       "1    5660456\n",
       "2    4213986\n",
       "3    3840701\n",
       "4    3783953\n",
       "5    4205906\n",
       "6    4496635\n",
       "Name: order_day_of_week, dtype: int64"
      ]
     },
     "execution_count": 8,
     "metadata": {},
     "output_type": "execute_result"
    }
   ],
   "source": [
    "ords_prods_merge['order_day_of_week'].value_counts(dropna = False).sort_index()"
   ]
  },
  {
   "cell_type": "code",
   "execution_count": 9,
   "id": "4860b618",
   "metadata": {},
   "outputs": [
    {
     "data": {
      "text/plain": [
       "<AxesSubplot:>"
      ]
     },
     "execution_count": 9,
     "metadata": {},
     "output_type": "execute_result"
    },
    {
     "data": {
      "image/png": "[encoded data removed]",
      "text/plain": [
       "<Figure size 432x288 with 1 Axes>"
      ]
     },
     "metadata": {
      "needs_background": "light"
     },
     "output_type": "display_data"
    }
   ],
   "source": [
    "ords_prods_merge['order_day_of_week'].value_counts().sort_index().plot.bar(color = ['purple', 'red', 'pink', 'orange', 'yellow', 'green', 'blue'])"
   ]
  },
  {
   "cell_type": "code",
   "execution_count": 10,
   "id": "cb54a28c",
   "metadata": {},
   "outputs": [
    {
     "data": {
      "image/png": "[encoded data removed]",
      "text/plain": [
       "<Figure size 432x288 with 1 Axes>"
      ]
     },
     "metadata": {
      "needs_background": "light"
     },
     "output_type": "display_data"
    }
   ],
   "source": [
    "bar = ords_prods_merge['order_day_of_week'].value_counts().plot.bar(color = ['purple', 'red', 'pink', 'orange', 'yellow', 'green', 'blue'])"
   ]
  },
  {
   "cell_type": "code",
   "execution_count": 11,
   "id": "13f137c4",
   "metadata": {},
   "outputs": [
    {
     "data": {
      "image/png": "[encoded data removed]",
      "text/plain": [
       "<Figure size 432x288 with 1 Axes>"
      ]
     },
     "execution_count": 11,
     "metadata": {},
     "output_type": "execute_result"
    }
   ],
   "source": [
    "bar.figure"
   ]
  },
  {
   "cell_type": "code",
   "execution_count": 12,
   "id": "1bdf335f",
   "metadata": {},
   "outputs": [],
   "source": [
    "png_path = r'C:\\Users\\iNDIA\\Desktop\\Career Foundry\\4 Python Fundamentals for Data Analysts\\Instacart Basket Analysis Mar 22\\04 Analysis\\Visualizations'"
   ]
  },
  {
   "cell_type": "code",
   "execution_count": 13,
   "id": "82cb9f94",
   "metadata": {},
   "outputs": [],
   "source": [
    "bar.figure.savefig(os.path.join(png_path, 'bar_orders_dow.png'))"
   ]
  },
  {
   "cell_type": "markdown",
   "id": "b943124b",
   "metadata": {},
   "source": [
    "### Creating Histograms and Scatterplots"
   ]
  },
  {
   "cell_type": "code",
   "execution_count": 14,
   "id": "8acd1943",
   "metadata": {},
   "outputs": [
    {
     "data": {
      "text/plain": [
       "<AxesSubplot:ylabel='Frequency'>"
      ]
     },
     "execution_count": 14,
     "metadata": {},
     "output_type": "execute_result"
    },
    {
     "data": {
      "image/png": "[encoded data removed]",
      "text/plain": [
       "<Figure size 432x288 with 1 Axes>"
      ]
     },
     "metadata": {
      "needs_background": "light"
     },
     "output_type": "display_data"
    }
   ],
   "source": [
    "ords_prods_merge['prices'].plot.hist(bins = 25)"
   ]
  },
  {
   "cell_type": "code",
   "execution_count": 15,
   "id": "8ee59b9d",
   "metadata": {},
   "outputs": [
    {
     "data": {
      "text/plain": [
       "count    3.240604e+07\n",
       "mean     1.198004e+01\n",
       "std      4.956464e+02\n",
       "min      1.000000e+00\n",
       "25%      4.200000e+00\n",
       "50%      7.400000e+00\n",
       "75%      1.130000e+01\n",
       "max      9.999900e+04\n",
       "Name: prices, dtype: float64"
      ]
     },
     "execution_count": 15,
     "metadata": {},
     "output_type": "execute_result"
    }
   ],
   "source": [
    "ords_prods_merge['prices'].describe()"
   ]
  },
  {
   "cell_type": "code",
   "execution_count": 16,
   "id": "9fc9b3d3",
   "metadata": {},
   "outputs": [
    {
     "data": {
      "text/plain": [
       "11.980041060953212"
      ]
     },
     "execution_count": 16,
     "metadata": {},
     "output_type": "execute_result"
    }
   ],
   "source": [
    "ords_prods_merge['prices'].mean()"
   ]
  },
  {
   "cell_type": "code",
   "execution_count": 17,
   "id": "b58940a4",
   "metadata": {},
   "outputs": [
    {
     "data": {
      "text/plain": [
       "1.0"
      ]
     },
     "execution_count": 17,
     "metadata": {},
     "output_type": "execute_result"
    }
   ],
   "source": [
    "ords_prods_merge['prices'].min()"
   ]
  },
  {
   "cell_type": "code",
   "execution_count": 18,
   "id": "f7ac13bc",
   "metadata": {},
   "outputs": [
    {
     "data": {
      "text/plain": [
       "7.4"
      ]
     },
     "execution_count": 18,
     "metadata": {},
     "output_type": "execute_result"
    }
   ],
   "source": [
    "ords_prods_merge['prices'].median()"
   ]
  },
  {
   "cell_type": "code",
   "execution_count": 19,
   "id": "9cae1373",
   "metadata": {},
   "outputs": [
    {
     "data": {
      "text/plain": [
       "99999.0"
      ]
     },
     "execution_count": 19,
     "metadata": {},
     "output_type": "execute_result"
    }
   ],
   "source": [
    "ords_prods_merge['prices'].max()"
   ]
  },
  {
   "cell_type": "code",
   "execution_count": 20,
   "id": "2b5c3be0",
   "metadata": {
    "scrolled": true
   },
   "outputs": [
    {
     "data": {
      "text/plain": [
       "<AxesSubplot:xlabel='prices', ylabel='prices'>"
      ]
     },
     "execution_count": 20,
     "metadata": {},
     "output_type": "execute_result"
    },
    {
     "data": {
      "image/png": "[encoded data removed]",
      "text/plain": [
       "<Figure size 432x288 with 1 Axes>"
      ]
     },
     "metadata": {
      "needs_background": "light"
     },
     "output_type": "display_data"
    }
   ],
   "source": [
    "sns.scatterplot(x = 'prices', y = 'prices', data = ords_prods_merge)"
   ]
  },
  {
   "cell_type": "code",
   "execution_count": 21,
   "id": "fa3f5cf9",
   "metadata": {},
   "outputs": [
    {
     "data": {
      "text/html": [
       "<div>\n",
       "<style scoped>\n",
       "    .dataframe tbody tr th:only-of-type {\n",
       "        vertical-align: middle;\n",
       "    }\n",
       "\n",
       "    .dataframe tbody tr th {\n",
       "        vertical-align: top;\n",
       "    }\n",
       "\n",
       "    .dataframe thead th {\n",
       "        text-align: right;\n",
       "    }\n",
       "</style>\n",
       "<table border=\"1\" class=\"dataframe\">\n",
       "  <thead>\n",
       "    <tr style=\"text-align: right;\">\n",
       "      <th></th>\n",
       "      <th>order_id</th>\n",
       "      <th>user_id</th>\n",
       "      <th>order_number</th>\n",
       "      <th>order_day_of_week</th>\n",
       "      <th>order_time</th>\n",
       "      <th>days_since_prior_order</th>\n",
       "      <th>first_time_customer</th>\n",
       "      <th>product_id</th>\n",
       "      <th>add_to_cart_order</th>\n",
       "      <th>reordered</th>\n",
       "      <th>product_name</th>\n",
       "      <th>aisle_id</th>\n",
       "      <th>department_id</th>\n",
       "      <th>prices</th>\n",
       "      <th>max_order</th>\n",
       "      <th>loyalty_flag</th>\n",
       "      <th>mean_price</th>\n",
       "      <th>spending_flag</th>\n",
       "      <th>frequency</th>\n",
       "      <th>Customer Type</th>\n",
       "    </tr>\n",
       "  </thead>\n",
       "  <tbody>\n",
       "    <tr>\n",
       "      <th>10030345</th>\n",
       "      <td>912404</td>\n",
       "      <td>17</td>\n",
       "      <td>12</td>\n",
       "      <td>2</td>\n",
       "      <td>14</td>\n",
       "      <td>5.0</td>\n",
       "      <td>False</td>\n",
       "      <td>21553</td>\n",
       "      <td>5</td>\n",
       "      <td>0</td>\n",
       "      <td>Lowfat 2% Milkfat Cottage Cheese</td>\n",
       "      <td>108</td>\n",
       "      <td>16</td>\n",
       "      <td>14900.0</td>\n",
       "      <td>40</td>\n",
       "      <td>Regular customer</td>\n",
       "      <td>108.648299</td>\n",
       "      <td>High spender</td>\n",
       "      <td>5.0</td>\n",
       "      <td>Frequent customer</td>\n",
       "    </tr>\n",
       "    <tr>\n",
       "      <th>10030346</th>\n",
       "      <td>603376</td>\n",
       "      <td>17</td>\n",
       "      <td>22</td>\n",
       "      <td>6</td>\n",
       "      <td>16</td>\n",
       "      <td>4.0</td>\n",
       "      <td>False</td>\n",
       "      <td>21553</td>\n",
       "      <td>3</td>\n",
       "      <td>1</td>\n",
       "      <td>Lowfat 2% Milkfat Cottage Cheese</td>\n",
       "      <td>108</td>\n",
       "      <td>16</td>\n",
       "      <td>14900.0</td>\n",
       "      <td>40</td>\n",
       "      <td>Regular customer</td>\n",
       "      <td>108.648299</td>\n",
       "      <td>High spender</td>\n",
       "      <td>5.0</td>\n",
       "      <td>Frequent customer</td>\n",
       "    </tr>\n",
       "    <tr>\n",
       "      <th>10030347</th>\n",
       "      <td>3264360</td>\n",
       "      <td>135</td>\n",
       "      <td>2</td>\n",
       "      <td>2</td>\n",
       "      <td>21</td>\n",
       "      <td>13.0</td>\n",
       "      <td>False</td>\n",
       "      <td>21553</td>\n",
       "      <td>6</td>\n",
       "      <td>0</td>\n",
       "      <td>Lowfat 2% Milkfat Cottage Cheese</td>\n",
       "      <td>108</td>\n",
       "      <td>16</td>\n",
       "      <td>14900.0</td>\n",
       "      <td>4</td>\n",
       "      <td>New customer</td>\n",
       "      <td>1154.792308</td>\n",
       "      <td>High spender</td>\n",
       "      <td>12.0</td>\n",
       "      <td>Regular customer</td>\n",
       "    </tr>\n",
       "    <tr>\n",
       "      <th>10030348</th>\n",
       "      <td>892534</td>\n",
       "      <td>135</td>\n",
       "      <td>3</td>\n",
       "      <td>0</td>\n",
       "      <td>8</td>\n",
       "      <td>12.0</td>\n",
       "      <td>False</td>\n",
       "      <td>21553</td>\n",
       "      <td>3</td>\n",
       "      <td>1</td>\n",
       "      <td>Lowfat 2% Milkfat Cottage Cheese</td>\n",
       "      <td>108</td>\n",
       "      <td>16</td>\n",
       "      <td>14900.0</td>\n",
       "      <td>4</td>\n",
       "      <td>New customer</td>\n",
       "      <td>1154.792308</td>\n",
       "      <td>High spender</td>\n",
       "      <td>12.0</td>\n",
       "      <td>Regular customer</td>\n",
       "    </tr>\n",
       "    <tr>\n",
       "      <th>10030349</th>\n",
       "      <td>229704</td>\n",
       "      <td>342</td>\n",
       "      <td>8</td>\n",
       "      <td>1</td>\n",
       "      <td>19</td>\n",
       "      <td>30.0</td>\n",
       "      <td>False</td>\n",
       "      <td>21553</td>\n",
       "      <td>9</td>\n",
       "      <td>0</td>\n",
       "      <td>Lowfat 2% Milkfat Cottage Cheese</td>\n",
       "      <td>108</td>\n",
       "      <td>16</td>\n",
       "      <td>14900.0</td>\n",
       "      <td>16</td>\n",
       "      <td>Regular customer</td>\n",
       "      <td>114.426619</td>\n",
       "      <td>High spender</td>\n",
       "      <td>23.0</td>\n",
       "      <td>Non-frequent customer</td>\n",
       "    </tr>\n",
       "    <tr>\n",
       "      <th>...</th>\n",
       "      <td>...</td>\n",
       "      <td>...</td>\n",
       "      <td>...</td>\n",
       "      <td>...</td>\n",
       "      <td>...</td>\n",
       "      <td>...</td>\n",
       "      <td>...</td>\n",
       "      <td>...</td>\n",
       "      <td>...</td>\n",
       "      <td>...</td>\n",
       "      <td>...</td>\n",
       "      <td>...</td>\n",
       "      <td>...</td>\n",
       "      <td>...</td>\n",
       "      <td>...</td>\n",
       "      <td>...</td>\n",
       "      <td>...</td>\n",
       "      <td>...</td>\n",
       "      <td>...</td>\n",
       "      <td>...</td>\n",
       "    </tr>\n",
       "    <tr>\n",
       "      <th>29167287</th>\n",
       "      <td>2249946</td>\n",
       "      <td>204099</td>\n",
       "      <td>29</td>\n",
       "      <td>0</td>\n",
       "      <td>8</td>\n",
       "      <td>4.0</td>\n",
       "      <td>False</td>\n",
       "      <td>33664</td>\n",
       "      <td>1</td>\n",
       "      <td>0</td>\n",
       "      <td>2 % Reduced Fat  Milk</td>\n",
       "      <td>84</td>\n",
       "      <td>16</td>\n",
       "      <td>99999.0</td>\n",
       "      <td>39</td>\n",
       "      <td>Regular customer</td>\n",
       "      <td>1106.743956</td>\n",
       "      <td>High spender</td>\n",
       "      <td>4.0</td>\n",
       "      <td>Frequent customer</td>\n",
       "    </tr>\n",
       "    <tr>\n",
       "      <th>29167288</th>\n",
       "      <td>2363282</td>\n",
       "      <td>204099</td>\n",
       "      <td>31</td>\n",
       "      <td>0</td>\n",
       "      <td>9</td>\n",
       "      <td>2.0</td>\n",
       "      <td>False</td>\n",
       "      <td>33664</td>\n",
       "      <td>1</td>\n",
       "      <td>1</td>\n",
       "      <td>2 % Reduced Fat  Milk</td>\n",
       "      <td>84</td>\n",
       "      <td>16</td>\n",
       "      <td>99999.0</td>\n",
       "      <td>39</td>\n",
       "      <td>Regular customer</td>\n",
       "      <td>1106.743956</td>\n",
       "      <td>High spender</td>\n",
       "      <td>4.0</td>\n",
       "      <td>Frequent customer</td>\n",
       "    </tr>\n",
       "    <tr>\n",
       "      <th>29167289</th>\n",
       "      <td>3181945</td>\n",
       "      <td>204395</td>\n",
       "      <td>13</td>\n",
       "      <td>3</td>\n",
       "      <td>15</td>\n",
       "      <td>8.0</td>\n",
       "      <td>False</td>\n",
       "      <td>33664</td>\n",
       "      <td>25</td>\n",
       "      <td>0</td>\n",
       "      <td>2 % Reduced Fat  Milk</td>\n",
       "      <td>84</td>\n",
       "      <td>16</td>\n",
       "      <td>99999.0</td>\n",
       "      <td>15</td>\n",
       "      <td>Regular customer</td>\n",
       "      <td>451.153540</td>\n",
       "      <td>High spender</td>\n",
       "      <td>5.0</td>\n",
       "      <td>Frequent customer</td>\n",
       "    </tr>\n",
       "    <tr>\n",
       "      <th>29167290</th>\n",
       "      <td>2486215</td>\n",
       "      <td>205227</td>\n",
       "      <td>7</td>\n",
       "      <td>3</td>\n",
       "      <td>20</td>\n",
       "      <td>4.0</td>\n",
       "      <td>False</td>\n",
       "      <td>33664</td>\n",
       "      <td>8</td>\n",
       "      <td>0</td>\n",
       "      <td>2 % Reduced Fat  Milk</td>\n",
       "      <td>84</td>\n",
       "      <td>16</td>\n",
       "      <td>99999.0</td>\n",
       "      <td>12</td>\n",
       "      <td>Regular customer</td>\n",
       "      <td>1178.381871</td>\n",
       "      <td>High spender</td>\n",
       "      <td>12.0</td>\n",
       "      <td>Regular customer</td>\n",
       "    </tr>\n",
       "    <tr>\n",
       "      <th>29167291</th>\n",
       "      <td>2232716</td>\n",
       "      <td>205227</td>\n",
       "      <td>10</td>\n",
       "      <td>0</td>\n",
       "      <td>11</td>\n",
       "      <td>4.0</td>\n",
       "      <td>False</td>\n",
       "      <td>33664</td>\n",
       "      <td>23</td>\n",
       "      <td>1</td>\n",
       "      <td>2 % Reduced Fat  Milk</td>\n",
       "      <td>84</td>\n",
       "      <td>16</td>\n",
       "      <td>99999.0</td>\n",
       "      <td>12</td>\n",
       "      <td>Regular customer</td>\n",
       "      <td>1178.381871</td>\n",
       "      <td>High spender</td>\n",
       "      <td>12.0</td>\n",
       "      <td>Regular customer</td>\n",
       "    </tr>\n",
       "  </tbody>\n",
       "</table>\n",
       "<p>5127 rows × 20 columns</p>\n",
       "</div>"
      ],
      "text/plain": [
       "          order_id  user_id  order_number  order_day_of_week  order_time  \\\n",
       "10030345    912404       17            12                  2          14   \n",
       "10030346    603376       17            22                  6          16   \n",
       "10030347   3264360      135             2                  2          21   \n",
       "10030348    892534      135             3                  0           8   \n",
       "10030349    229704      342             8                  1          19   \n",
       "...            ...      ...           ...                ...         ...   \n",
       "29167287   2249946   204099            29                  0           8   \n",
       "29167288   2363282   204099            31                  0           9   \n",
       "29167289   3181945   204395            13                  3          15   \n",
       "29167290   2486215   205227             7                  3          20   \n",
       "29167291   2232716   205227            10                  0          11   \n",
       "\n",
       "          days_since_prior_order  first_time_customer  product_id  \\\n",
       "10030345                     5.0                False       21553   \n",
       "10030346                     4.0                False       21553   \n",
       "10030347                    13.0                False       21553   \n",
       "10030348                    12.0                False       21553   \n",
       "10030349                    30.0                False       21553   \n",
       "...                          ...                  ...         ...   \n",
       "29167287                     4.0                False       33664   \n",
       "29167288                     2.0                False       33664   \n",
       "29167289                     8.0                False       33664   \n",
       "29167290                     4.0                False       33664   \n",
       "29167291                     4.0                False       33664   \n",
       "\n",
       "          add_to_cart_order  reordered                      product_name  \\\n",
       "10030345                  5          0  Lowfat 2% Milkfat Cottage Cheese   \n",
       "10030346                  3          1  Lowfat 2% Milkfat Cottage Cheese   \n",
       "10030347                  6          0  Lowfat 2% Milkfat Cottage Cheese   \n",
       "10030348                  3          1  Lowfat 2% Milkfat Cottage Cheese   \n",
       "10030349                  9          0  Lowfat 2% Milkfat Cottage Cheese   \n",
       "...                     ...        ...                               ...   \n",
       "29167287                  1          0             2 % Reduced Fat  Milk   \n",
       "29167288                  1          1             2 % Reduced Fat  Milk   \n",
       "29167289                 25          0             2 % Reduced Fat  Milk   \n",
       "29167290                  8          0             2 % Reduced Fat  Milk   \n",
       "29167291                 23          1             2 % Reduced Fat  Milk   \n",
       "\n",
       "          aisle_id  department_id   prices  max_order      loyalty_flag  \\\n",
       "10030345       108             16  14900.0         40  Regular customer   \n",
       "10030346       108             16  14900.0         40  Regular customer   \n",
       "10030347       108             16  14900.0          4      New customer   \n",
       "10030348       108             16  14900.0          4      New customer   \n",
       "10030349       108             16  14900.0         16  Regular customer   \n",
       "...            ...            ...      ...        ...               ...   \n",
       "29167287        84             16  99999.0         39  Regular customer   \n",
       "29167288        84             16  99999.0         39  Regular customer   \n",
       "29167289        84             16  99999.0         15  Regular customer   \n",
       "29167290        84             16  99999.0         12  Regular customer   \n",
       "29167291        84             16  99999.0         12  Regular customer   \n",
       "\n",
       "           mean_price spending_flag  frequency          Customer Type  \n",
       "10030345   108.648299  High spender        5.0      Frequent customer  \n",
       "10030346   108.648299  High spender        5.0      Frequent customer  \n",
       "10030347  1154.792308  High spender       12.0       Regular customer  \n",
       "10030348  1154.792308  High spender       12.0       Regular customer  \n",
       "10030349   114.426619  High spender       23.0  Non-frequent customer  \n",
       "...               ...           ...        ...                    ...  \n",
       "29167287  1106.743956  High spender        4.0      Frequent customer  \n",
       "29167288  1106.743956  High spender        4.0      Frequent customer  \n",
       "29167289   451.153540  High spender        5.0      Frequent customer  \n",
       "29167290  1178.381871  High spender       12.0       Regular customer  \n",
       "29167291  1178.381871  High spender       12.0       Regular customer  \n",
       "\n",
       "[5127 rows x 20 columns]"
      ]
     },
     "execution_count": 21,
     "metadata": {},
     "output_type": "execute_result"
    }
   ],
   "source": [
    "# checkin outlier in price\n",
    "\n",
    "ords_prods_merge.loc[ords_prods_merge['prices'] > 100]"
   ]
  },
  {
   "cell_type": "code",
   "execution_count": 22,
   "id": "e7e991ef",
   "metadata": {},
   "outputs": [],
   "source": [
    "ords_prods_merge.loc[ords_prods_merge['prices'] > 100, 'prices'] =np.nan"
   ]
  },
  {
   "cell_type": "code",
   "execution_count": 23,
   "id": "7a667e5c",
   "metadata": {},
   "outputs": [
    {
     "data": {
      "text/plain": [
       "25.0"
      ]
     },
     "execution_count": 23,
     "metadata": {},
     "output_type": "execute_result"
    }
   ],
   "source": [
    "ords_prods_merge['prices'].max()"
   ]
  },
  {
   "cell_type": "code",
   "execution_count": 24,
   "id": "48b9f1e6",
   "metadata": {},
   "outputs": [
    {
     "data": {
      "image/png": "[encoded data removed]",
      "text/plain": [
       "<Figure size 432x288 with 1 Axes>"
      ]
     },
     "metadata": {
      "needs_background": "light"
     },
     "output_type": "display_data"
    }
   ],
   "source": [
    "hist = ords_prods_merge['prices'].plot.hist(bins = 25)"
   ]
  },
  {
   "cell_type": "code",
   "execution_count": 25,
   "id": "f0b1e866",
   "metadata": {},
   "outputs": [
    {
     "data": {
      "image/png": "[encoded data removed]",
      "text/plain": [
       "<Figure size 432x288 with 1 Axes>"
      ]
     },
     "metadata": {
      "needs_background": "light"
     },
     "output_type": "display_data"
    }
   ],
   "source": [
    "hist_2 = ords_prods_merge['prices'].plot.hist(bins = 70)"
   ]
  },
  {
   "cell_type": "code",
   "execution_count": 26,
   "id": "8b86dfea",
   "metadata": {},
   "outputs": [],
   "source": [
    "hist_path = r'C:\\Users\\iNDIA\\Desktop\\Career Foundry\\4 Python Fundamentals for Data Analysts\\Instacart Basket Analysis Mar 22\\04 Analysis\\Visualizations'"
   ]
  },
  {
   "cell_type": "code",
   "execution_count": 27,
   "id": "d6e3337b",
   "metadata": {},
   "outputs": [
    {
     "ename": "SyntaxError",
     "evalue": "unexpected EOF while parsing (Temp/ipykernel_6064/754078303.py, line 1)",
     "output_type": "error",
     "traceback": [
      "\u001b[1;36m  File \u001b[1;32m\"C:\\Users\\iNDIA\\AppData\\Local\\Temp/ipykernel_6064/754078303.py\"\u001b[1;36m, line \u001b[1;32m1\u001b[0m\n\u001b[1;33m    hist.figure.savefig(os.path.join(hist_path, 'hist_order_dow.png')\u001b[0m\n\u001b[1;37m                                                                     ^\u001b[0m\n\u001b[1;31mSyntaxError\u001b[0m\u001b[1;31m:\u001b[0m unexpected EOF while parsing\n"
     ]
    }
   ],
   "source": [
    "hist.figure.savefig(os.path.join(hist_path, 'hist_order_dow.png')"
   ]
  },
  {
   "cell_type": "markdown",
   "id": "207a086d",
   "metadata": {},
   "source": [
    "### Creating Line Charts & Sampling"
   ]
  },
  {
   "cell_type": "code",
   "execution_count": 28,
   "id": "0c223f79",
   "metadata": {},
   "outputs": [],
   "source": [
    "df = ords_prods_merge[:2000000]"
   ]
  },
  {
   "cell_type": "code",
   "execution_count": 29,
   "id": "312301e9",
   "metadata": {},
   "outputs": [],
   "source": [
    "# Create a list holding True/False values to the test np.random.rand() < 0.7\n",
    "np.random.seed(4)\n",
    "dev = np.random.rand(len(ords_prods_merge)) <= 0.7"
   ]
  },
  {
   "cell_type": "code",
   "execution_count": 30,
   "id": "18dc1eb8",
   "metadata": {},
   "outputs": [
    {
     "data": {
      "text/plain": [
       "array([False,  True, False, ..., False,  True,  True])"
      ]
     },
     "execution_count": 30,
     "metadata": {},
     "output_type": "execute_result"
    }
   ],
   "source": [
    "dev"
   ]
  },
  {
   "cell_type": "code",
   "execution_count": 31,
   "id": "eab20dac",
   "metadata": {},
   "outputs": [
    {
     "data": {
      "text/plain": [
       "array([0.17595723, 0.76727706, 0.02781213, 0.23006849, 0.41371748,\n",
       "       0.14652875, 0.19185561, 0.99657905, 0.59139971, 0.45592832])"
      ]
     },
     "execution_count": 31,
     "metadata": {},
     "output_type": "execute_result"
    }
   ],
   "source": [
    "np.random.rand(10)"
   ]
  },
  {
   "cell_type": "code",
   "execution_count": 32,
   "id": "6c27b4f1",
   "metadata": {},
   "outputs": [
    {
     "data": {
      "text/plain": [
       "32406036"
      ]
     },
     "execution_count": 32,
     "metadata": {},
     "output_type": "execute_result"
    }
   ],
   "source": [
    "len(ords_prods_merge)"
   ]
  },
  {
   "cell_type": "code",
   "execution_count": 33,
   "id": "3655e83f",
   "metadata": {},
   "outputs": [],
   "source": [
    "# Store 70% of the sample in the dataframe big\n",
    "big = ords_prods_merge[dev]"
   ]
  },
  {
   "cell_type": "code",
   "execution_count": 34,
   "id": "90487593",
   "metadata": {},
   "outputs": [],
   "source": [
    "# Store 30% of the sample in the dataframe small\n",
    "small = ords_prods_merge[~dev]"
   ]
  },
  {
   "cell_type": "code",
   "execution_count": 35,
   "id": "0fbf872b",
   "metadata": {},
   "outputs": [
    {
     "data": {
      "text/plain": [
       "32406036"
      ]
     },
     "execution_count": 35,
     "metadata": {},
     "output_type": "execute_result"
    }
   ],
   "source": [
    "len(big) + len(small)"
   ]
  },
  {
   "cell_type": "code",
   "execution_count": 36,
   "id": "4abbf5c7",
   "metadata": {},
   "outputs": [],
   "source": [
    "df_2 = small[['order_day_of_week', 'prices']]"
   ]
  },
  {
   "cell_type": "code",
   "execution_count": 37,
   "id": "c38f6242",
   "metadata": {},
   "outputs": [
    {
     "data": {
      "image/png": "[encoded data removed]",
      "text/plain": [
       "<Figure size 432x288 with 1 Axes>"
      ]
     },
     "metadata": {
      "needs_background": "light"
     },
     "output_type": "display_data"
    }
   ],
   "source": [
    "line = sns.lineplot(data = df_2, x = 'order_day_of_week', y = 'prices')"
   ]
  },
  {
   "cell_type": "markdown",
   "id": "be2326c1",
   "metadata": {},
   "source": [
    "## Task"
   ]
  },
  {
   "cell_type": "code",
   "execution_count": 38,
   "id": "0c7ee27e",
   "metadata": {},
   "outputs": [],
   "source": [
    "# Q3. # Importing ords_prods_customers_merge dataset\n",
    "path=r'C:\\Users\\iNDIA\\Desktop\\Career Foundry\\4 Python Fundamentals for Data Analysts\\Instacart Basket Analysis Mar 22\\02 Data\\Prepared Data\\ords_prods_customers_merge.pkl'"
   ]
  },
  {
   "cell_type": "code",
   "execution_count": 39,
   "id": "eb240703",
   "metadata": {},
   "outputs": [],
   "source": [
    "%%time\n",
    "ords_prods_customers_merge = pd.read_pickle(path)"
   ]
  },
  {
   "cell_type": "code",
   "execution_count": 40,
   "id": "9fb82100",
   "metadata": {},
   "outputs": [
    {
     "name": "stdout",
     "output_type": "stream",
     "text": [
      "<class 'pandas.core.frame.DataFrame'>\n",
      "Int64Index: 32406036 entries, 0 to 32406035\n",
      "Data columns (total 29 columns):\n",
      " #   Column                  Dtype  \n",
      "---  ------                  -----  \n",
      " 0   order_id                int32  \n",
      " 1   user_id                 object \n",
      " 2   order_number            int8   \n",
      " 3   order_day_of_week       int8   \n",
      " 4   order_time              int8   \n",
      " 5   days_since_prior_order  float16\n",
      " 6   first_time_customer     bool   \n",
      " 7   product_id              int32  \n",
      " 8   add_to_cart_order       int32  \n",
      " 9   reordered               int32  \n",
      " 10  product_name            object \n",
      " 11  aisle_id                int32  \n",
      " 12  department_id           int32  \n",
      " 13  prices                  float64\n",
      " 14  max_order               int32  \n",
      " 15  loyalty_flag            object \n",
      " 16  mean_price              float16\n",
      " 17  spending_flag           object \n",
      " 18  frequency               float16\n",
      " 19  Customer Type           object \n",
      " 20  first_name              object \n",
      " 21  last_name               object \n",
      " 22  gender                  object \n",
      " 23  state                   object \n",
      " 24  age                     int32  \n",
      " 25  date_joined             object \n",
      " 26  n_dependants            int32  \n",
      " 27  fam_status              object \n",
      " 28  income                  int32  \n",
      "dtypes: bool(1), float16(3), float64(1), int32(10), int8(3), object(11)\n",
      "memory usage: 4.6+ GB\n"
     ]
    }
   ],
   "source": [
    "ords_prods_customers_merge.info()"
   ]
  },
  {
   "cell_type": "code",
   "execution_count": 41,
   "id": "5ededb32",
   "metadata": {},
   "outputs": [
    {
     "data": {
      "text/html": [
       "<div>\n",
       "<style scoped>\n",
       "    .dataframe tbody tr th:only-of-type {\n",
       "        vertical-align: middle;\n",
       "    }\n",
       "\n",
       "    .dataframe tbody tr th {\n",
       "        vertical-align: top;\n",
       "    }\n",
       "\n",
       "    .dataframe thead th {\n",
       "        text-align: right;\n",
       "    }\n",
       "</style>\n",
       "<table border=\"1\" class=\"dataframe\">\n",
       "  <thead>\n",
       "    <tr style=\"text-align: right;\">\n",
       "      <th></th>\n",
       "      <th>order_id</th>\n",
       "      <th>user_id</th>\n",
       "      <th>order_number</th>\n",
       "      <th>order_day_of_week</th>\n",
       "      <th>order_time</th>\n",
       "      <th>days_since_prior_order</th>\n",
       "      <th>first_time_customer</th>\n",
       "      <th>product_id</th>\n",
       "      <th>add_to_cart_order</th>\n",
       "      <th>reordered</th>\n",
       "      <th>...</th>\n",
       "      <th>Customer Type</th>\n",
       "      <th>first_name</th>\n",
       "      <th>last_name</th>\n",
       "      <th>gender</th>\n",
       "      <th>state</th>\n",
       "      <th>age</th>\n",
       "      <th>date_joined</th>\n",
       "      <th>n_dependants</th>\n",
       "      <th>fam_status</th>\n",
       "      <th>income</th>\n",
       "    </tr>\n",
       "  </thead>\n",
       "  <tbody>\n",
       "    <tr>\n",
       "      <th>0</th>\n",
       "      <td>2539329</td>\n",
       "      <td>1</td>\n",
       "      <td>1</td>\n",
       "      <td>2</td>\n",
       "      <td>8</td>\n",
       "      <td>NaN</td>\n",
       "      <td>True</td>\n",
       "      <td>196</td>\n",
       "      <td>1</td>\n",
       "      <td>0</td>\n",
       "      <td>...</td>\n",
       "      <td>Non-frequent customer</td>\n",
       "      <td>Linda</td>\n",
       "      <td>Nguyen</td>\n",
       "      <td>Female</td>\n",
       "      <td>Alabama</td>\n",
       "      <td>31</td>\n",
       "      <td>2/17/2019</td>\n",
       "      <td>3</td>\n",
       "      <td>married</td>\n",
       "      <td>40423</td>\n",
       "    </tr>\n",
       "    <tr>\n",
       "      <th>1</th>\n",
       "      <td>2398795</td>\n",
       "      <td>1</td>\n",
       "      <td>2</td>\n",
       "      <td>3</td>\n",
       "      <td>7</td>\n",
       "      <td>15.0</td>\n",
       "      <td>False</td>\n",
       "      <td>196</td>\n",
       "      <td>1</td>\n",
       "      <td>1</td>\n",
       "      <td>...</td>\n",
       "      <td>Non-frequent customer</td>\n",
       "      <td>Linda</td>\n",
       "      <td>Nguyen</td>\n",
       "      <td>Female</td>\n",
       "      <td>Alabama</td>\n",
       "      <td>31</td>\n",
       "      <td>2/17/2019</td>\n",
       "      <td>3</td>\n",
       "      <td>married</td>\n",
       "      <td>40423</td>\n",
       "    </tr>\n",
       "    <tr>\n",
       "      <th>2</th>\n",
       "      <td>473747</td>\n",
       "      <td>1</td>\n",
       "      <td>3</td>\n",
       "      <td>3</td>\n",
       "      <td>12</td>\n",
       "      <td>21.0</td>\n",
       "      <td>False</td>\n",
       "      <td>196</td>\n",
       "      <td>1</td>\n",
       "      <td>1</td>\n",
       "      <td>...</td>\n",
       "      <td>Non-frequent customer</td>\n",
       "      <td>Linda</td>\n",
       "      <td>Nguyen</td>\n",
       "      <td>Female</td>\n",
       "      <td>Alabama</td>\n",
       "      <td>31</td>\n",
       "      <td>2/17/2019</td>\n",
       "      <td>3</td>\n",
       "      <td>married</td>\n",
       "      <td>40423</td>\n",
       "    </tr>\n",
       "    <tr>\n",
       "      <th>3</th>\n",
       "      <td>2254736</td>\n",
       "      <td>1</td>\n",
       "      <td>4</td>\n",
       "      <td>4</td>\n",
       "      <td>7</td>\n",
       "      <td>29.0</td>\n",
       "      <td>False</td>\n",
       "      <td>196</td>\n",
       "      <td>1</td>\n",
       "      <td>1</td>\n",
       "      <td>...</td>\n",
       "      <td>Non-frequent customer</td>\n",
       "      <td>Linda</td>\n",
       "      <td>Nguyen</td>\n",
       "      <td>Female</td>\n",
       "      <td>Alabama</td>\n",
       "      <td>31</td>\n",
       "      <td>2/17/2019</td>\n",
       "      <td>3</td>\n",
       "      <td>married</td>\n",
       "      <td>40423</td>\n",
       "    </tr>\n",
       "    <tr>\n",
       "      <th>4</th>\n",
       "      <td>431534</td>\n",
       "      <td>1</td>\n",
       "      <td>5</td>\n",
       "      <td>4</td>\n",
       "      <td>15</td>\n",
       "      <td>28.0</td>\n",
       "      <td>False</td>\n",
       "      <td>196</td>\n",
       "      <td>1</td>\n",
       "      <td>1</td>\n",
       "      <td>...</td>\n",
       "      <td>Non-frequent customer</td>\n",
       "      <td>Linda</td>\n",
       "      <td>Nguyen</td>\n",
       "      <td>Female</td>\n",
       "      <td>Alabama</td>\n",
       "      <td>31</td>\n",
       "      <td>2/17/2019</td>\n",
       "      <td>3</td>\n",
       "      <td>married</td>\n",
       "      <td>40423</td>\n",
       "    </tr>\n",
       "  </tbody>\n",
       "</table>\n",
       "<p>5 rows × 29 columns</p>\n",
       "</div>"
      ],
      "text/plain": [
       "   order_id user_id  order_number  order_day_of_week  order_time  \\\n",
       "0   2539329       1             1                  2           8   \n",
       "1   2398795       1             2                  3           7   \n",
       "2    473747       1             3                  3          12   \n",
       "3   2254736       1             4                  4           7   \n",
       "4    431534       1             5                  4          15   \n",
       "\n",
       "   days_since_prior_order  first_time_customer  product_id  add_to_cart_order  \\\n",
       "0                     NaN                 True         196                  1   \n",
       "1                    15.0                False         196                  1   \n",
       "2                    21.0                False         196                  1   \n",
       "3                    29.0                False         196                  1   \n",
       "4                    28.0                False         196                  1   \n",
       "\n",
       "   reordered  ...          Customer Type  first_name  last_name  gender  \\\n",
       "0          0  ...  Non-frequent customer       Linda     Nguyen  Female   \n",
       "1          1  ...  Non-frequent customer       Linda     Nguyen  Female   \n",
       "2          1  ...  Non-frequent customer       Linda     Nguyen  Female   \n",
       "3          1  ...  Non-frequent customer       Linda     Nguyen  Female   \n",
       "4          1  ...  Non-frequent customer       Linda     Nguyen  Female   \n",
       "\n",
       "     state age  date_joined n_dependants  fam_status income  \n",
       "0  Alabama  31    2/17/2019            3     married  40423  \n",
       "1  Alabama  31    2/17/2019            3     married  40423  \n",
       "2  Alabama  31    2/17/2019            3     married  40423  \n",
       "3  Alabama  31    2/17/2019            3     married  40423  \n",
       "4  Alabama  31    2/17/2019            3     married  40423  \n",
       "\n",
       "[5 rows x 29 columns]"
      ]
     },
     "execution_count": 41,
     "metadata": {},
     "output_type": "execute_result"
    }
   ],
   "source": [
    "ords_prods_customers_merge.head()"
   ]
  },
  {
   "cell_type": "code",
   "execution_count": 49,
   "id": "422102cf",
   "metadata": {},
   "outputs": [
    {
     "data": {
      "image/png": "[encoded data removed]",
      "text/plain": [
       "<Figure size 432x288 with 1 Axes>"
      ]
     },
     "metadata": {
      "needs_background": "light"
     },
     "output_type": "display_data"
    }
   ],
   "source": [
    "# Q3. descriptive findings about sales. \n",
    "#Create a histogram of the “order_hour_of_day” column.\n",
    "\n",
    "hist = ords_prods_customers_merge['order_time'].plot.hist(bins = 24)"
   ]
  },
  {
   "cell_type": "markdown",
   "id": "b9b9287b",
   "metadata": {},
   "source": [
    "The Histogram shows us the number of orders slightly increaing around the breakfast period of 8 am and are highest during the noon time and start decreasing slowly post 4pm  "
   ]
  },
  {
   "cell_type": "code",
   "execution_count": 80,
   "id": "e3180452",
   "metadata": {},
   "outputs": [],
   "source": [
    "#Exporting Histogram\n",
    "hist.figure.savefig(os.path.join(r'C:\\Users\\iNDIA\\Desktop\\Career Foundry\\4 Python Fundamentals for Data Analysts\\Instacart Basket Analysis Mar 22\\04 Analysis\\Visualizations', 'order_time_hist.png'))"
   ]
  },
  {
   "cell_type": "code",
   "execution_count": 51,
   "id": "6d1b2da1",
   "metadata": {},
   "outputs": [
    {
     "name": "stdout",
     "output_type": "stream",
     "text": [
      "Wall time: 6.4 s\n"
     ]
    },
    {
     "data": {
      "image/png": "[encoded data removed]",
      "text/plain": [
       "<Figure size 432x288 with 1 Axes>"
      ]
     },
     "metadata": {
      "needs_background": "light"
     },
     "output_type": "display_data"
    }
   ],
   "source": [
    "%%time\n",
    "#Q4. bar chart from the “loyalty_flag” column\n",
    "bar = ords_prods_customers_merge['loyalty_flag'].value_counts().plot.bar()"
   ]
  },
  {
   "cell_type": "code",
   "execution_count": 81,
   "id": "23a26eea",
   "metadata": {},
   "outputs": [],
   "source": [
    "#Exporting Bar\n",
    "bar.figure.savefig(os.path.join(r'C:\\Users\\iNDIA\\Desktop\\Career Foundry\\4 Python Fundamentals for Data Analysts\\Instacart Basket Analysis Mar 22\\04 Analysis\\Visualizations', 'loyalty_flag_bar.png'))"
   ]
  },
  {
   "cell_type": "code",
   "execution_count": 60,
   "id": "76fc012d",
   "metadata": {},
   "outputs": [],
   "source": [
    "# Q5. Check whether there’s a difference in expenditure (the “prices” column) depending on the hour of the day\n",
    "\n",
    "np.random.seed(4)\n",
    "dev_2 = np.random.rand(len(ords_prods_customers_merge)) <= 0.7"
   ]
  },
  {
   "cell_type": "code",
   "execution_count": 61,
   "id": "a5aadca5",
   "metadata": {},
   "outputs": [
    {
     "data": {
      "text/plain": [
       "array([False,  True, False, ..., False,  True, False])"
      ]
     },
     "execution_count": 61,
     "metadata": {},
     "output_type": "execute_result"
    }
   ],
   "source": [
    "dev_2"
   ]
  },
  {
   "cell_type": "code",
   "execution_count": 62,
   "id": "252e46b9",
   "metadata": {},
   "outputs": [],
   "source": [
    "# 70% of data\n",
    "big = ords_prods_customers_merge[dev_2]"
   ]
  },
  {
   "cell_type": "code",
   "execution_count": 63,
   "id": "0b68f7fb",
   "metadata": {},
   "outputs": [],
   "source": [
    "# Rest 30% of small data\n",
    "small = ords_prods_customers_merge[~dev_2]"
   ]
  },
  {
   "cell_type": "code",
   "execution_count": 64,
   "id": "652b61da",
   "metadata": {},
   "outputs": [
    {
     "data": {
      "text/plain": [
       "1000000"
      ]
     },
     "execution_count": 64,
     "metadata": {},
     "output_type": "execute_result"
    }
   ],
   "source": [
    "# checking length\n",
    "len(ords_prods_customers_merge)"
   ]
  },
  {
   "cell_type": "code",
   "execution_count": 65,
   "id": "7d6413ca",
   "metadata": {},
   "outputs": [
    {
     "data": {
      "text/plain": [
       "1000000"
      ]
     },
     "execution_count": 65,
     "metadata": {},
     "output_type": "execute_result"
    }
   ],
   "source": [
    "len(big) + len (small)"
   ]
  },
  {
   "cell_type": "code",
   "execution_count": 66,
   "id": "efa6b145",
   "metadata": {},
   "outputs": [],
   "source": [
    "#Reducing samples w.rt only necessary columns\n",
    "df_ords_prods_customers_merge = small[['order_time', 'prices']]"
   ]
  },
  {
   "cell_type": "code",
   "execution_count": 67,
   "id": "bd4c3562",
   "metadata": {},
   "outputs": [
    {
     "name": "stdout",
     "output_type": "stream",
     "text": [
      "Wall time: 15.3 s\n"
     ]
    },
    {
     "data": {
      "image/png": "[encoded data removed]",
      "text/plain": [
       "<Figure size 432x288 with 1 Axes>"
      ]
     },
     "metadata": {
      "needs_background": "light"
     },
     "output_type": "display_data"
    }
   ],
   "source": [
    "%%time\n",
    "#creating line chart for price w.r.t order_time\n",
    "\n",
    "line = sns.lineplot(data = df_ords_prods_customers_merge, x = 'order_time', y='prices')"
   ]
  },
  {
   "cell_type": "code",
   "execution_count": 82,
   "id": "7bca7800",
   "metadata": {},
   "outputs": [],
   "source": [
    "#Exporting line_chart\n",
    "bar.figure.savefig(os.path.join(r'C:\\Users\\iNDIA\\Desktop\\Career Foundry\\4 Python Fundamentals for Data Analysts\\Instacart Basket Analysis Mar 22\\04 Analysis\\Visualizations', 'order_time_prices_line_chart.png'))"
   ]
  },
  {
   "cell_type": "code",
   "execution_count": 69,
   "id": "b9510c55",
   "metadata": {},
   "outputs": [],
   "source": [
    "# Q6. conduct some exploratory analysis of customer demographics to inform the targeted marketing campaigns\n",
    "# First, determine whether there’s a connection between age and family status by creating a line chart exploring the connections between age and number of dependents\n",
    "\n",
    "df_ords_prods_customers_merge_2 = small[['age', 'n_dependants']]"
   ]
  },
  {
   "cell_type": "code",
   "execution_count": 70,
   "id": "fc3f16a8",
   "metadata": {},
   "outputs": [
    {
     "data": {
      "image/png": "[encoded data removed]",
      "text/plain": [
       "<Figure size 432x288 with 1 Axes>"
      ]
     },
     "metadata": {
      "needs_background": "light"
     },
     "output_type": "display_data"
    }
   ],
   "source": [
    "line_demographics = sns.lineplot(data = df_ords_prods_customers_merge_2, x = 'age', y='n_dependants')"
   ]
  },
  {
   "cell_type": "markdown",
   "id": "8575e660",
   "metadata": {},
   "source": [
    "There seems to be a strong connection between age and number of dependants"
   ]
  },
  {
   "cell_type": "code",
   "execution_count": 83,
   "id": "8bfb73c8",
   "metadata": {},
   "outputs": [],
   "source": [
    "#Exporting line_chart\n",
    "bar.figure.savefig(os.path.join(r'C:\\Users\\iNDIA\\Desktop\\Career Foundry\\4 Python Fundamentals for Data Analysts\\Instacart Basket Analysis Mar 22\\04 Analysis\\Visualizations', 'age_dependants_line_chart.png'))"
   ]
  },
  {
   "cell_type": "code",
   "execution_count": 72,
   "id": "eea87b89",
   "metadata": {},
   "outputs": [
    {
     "name": "stdout",
     "output_type": "stream",
     "text": [
      "Wall time: 470 ms\n"
     ]
    },
    {
     "data": {
      "text/plain": [
       "<AxesSubplot:xlabel='age', ylabel='income'>"
      ]
     },
     "execution_count": 72,
     "metadata": {},
     "output_type": "execute_result"
    },
    {
     "data": {
      "image/png": "[encoded data removed]",
      "text/plain": [
       "<Figure size 432x288 with 1 Axes>"
      ]
     },
     "metadata": {
      "needs_background": "light"
     },
     "output_type": "display_data"
    }
   ],
   "source": [
    "%%time\n",
    "# Q7. connection between age and spending power. To visualize this relationship, create a scatterplot using the sns.scatterplot() function.\n",
    "\n",
    "sns.scatterplot(x = 'age', y = 'income', data = ords_prods_customers_merge)"
   ]
  },
  {
   "cell_type": "markdown",
   "id": "70cb307c",
   "metadata": {},
   "source": [
    "This scatterplot shows that spending power increases after the age of 40 and stays steady post that, whereas before the age of 40 it still remains somewhat low. This might be due to more savings and wages of people above the age of 40"
   ]
  },
  {
   "cell_type": "code",
   "execution_count": 84,
   "id": "be181b48",
   "metadata": {},
   "outputs": [],
   "source": [
    "#Exporting scatter plot\n",
    "bar.figure.savefig(os.path.join(r'C:\\Users\\iNDIA\\Desktop\\Career Foundry\\4 Python Fundamentals for Data Analysts\\Instacart Basket Analysis Mar 22\\04 Analysis\\Visualizations', 'age_income.png'))"
   ]
  }
 ],
 "metadata": {
  "kernelspec": {
   "display_name": "Python 3 (ipykernel)",
   "language": "python",
   "name": "python3"
  },
  "language_info": {
   "codemirror_mode": {
    "name": "ipython",
    "version": 3
   },
   "file_extension": ".py",
   "mimetype": "text/x-python",
   "name": "python",
   "nbconvert_exporter": "python",
   "pygments_lexer": "ipython3",
   "version": "3.9.7"
  }
 },
 "nbformat": 4,
 "nbformat_minor": 5
}
